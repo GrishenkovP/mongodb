{
  "nbformat": 4,
  "nbformat_minor": 0,
  "metadata": {
    "colab": {
      "name": "google_colab_mongodb_install.ipynb",
      "provenance": [],
      "collapsed_sections": []
    },
    "kernelspec": {
      "name": "python3",
      "display_name": "Python 3"
    },
    "language_info": {
      "name": "python"
    }
  },
  "cells": [
    {
      "cell_type": "markdown",
      "source": [
        "# MongoDB. Как установить"
      ],
      "metadata": {
        "id": "xNEeCad9ZuXV"
      }
    },
    {
      "cell_type": "code",
      "execution_count": 1,
      "metadata": {
        "id": "iwr9JUGuZqN5"
      },
      "outputs": [],
      "source": [
        "%%capture\n",
        "!apt install mongodb\n",
        "!service mongodb start"
      ]
    },
    {
      "cell_type": "code",
      "source": [
        "import pymongo\n",
        "from pymongo import MongoClient"
      ],
      "metadata": {
        "id": "_wnt5VFqaK_9"
      },
      "execution_count": 2,
      "outputs": []
    },
    {
      "cell_type": "code",
      "source": [
        "# Подключение\n",
        "client = MongoClient()"
      ],
      "metadata": {
        "id": "2fZxkbM6atLz"
      },
      "execution_count": 3,
      "outputs": []
    },
    {
      "cell_type": "code",
      "source": [
        "# БД\n",
        "db_test = client['db_test']"
      ],
      "metadata": {
        "id": "x6myxmxVavf9"
      },
      "execution_count": 4,
      "outputs": []
    },
    {
      "cell_type": "code",
      "source": [
        "# Коллекция\n",
        "collection_test = db_test['collection_test']"
      ],
      "metadata": {
        "id": "FU5Xgaoka-Cc"
      },
      "execution_count": 5,
      "outputs": []
    },
    {
      "cell_type": "code",
      "source": [
        "data1 = {'_id':1, 'val1':100, 'val2':'string1'}\n",
        "data2 = {'_id':2, 'val1':200, 'val2':'string2'}"
      ],
      "metadata": {
        "id": "H_xT13ZDbUBd"
      },
      "execution_count": 6,
      "outputs": []
    },
    {
      "cell_type": "code",
      "source": [
        "# Добавление значений в коллекцию\n",
        "ins_result = collection_test.insert_one(data1)\n",
        "print(ins_result.inserted_id)\n",
        "ins_result = collection_test.insert_one(data2)\n",
        "print(ins_result.inserted_id)"
      ],
      "metadata": {
        "colab": {
          "base_uri": "https://localhost:8080/"
        },
        "id": "SMN8GxXSb2ck",
        "outputId": "c861bbe3-1c0c-47ad-a7aa-e50700deb0d6"
      },
      "execution_count": 7,
      "outputs": [
        {
          "output_type": "stream",
          "name": "stdout",
          "text": [
            "1\n",
            "2\n"
          ]
        }
      ]
    },
    {
      "cell_type": "code",
      "source": [
        "# Вывести все документы в коллекции\n",
        "for _ in collection_test.find():\n",
        "  print(_)"
      ],
      "metadata": {
        "colab": {
          "base_uri": "https://localhost:8080/"
        },
        "id": "xTRSIaZZcaLz",
        "outputId": "f3485802-cb8a-457d-b40a-d491d6b5aa05"
      },
      "execution_count": 9,
      "outputs": [
        {
          "output_type": "stream",
          "name": "stdout",
          "text": [
            "{'_id': 1, 'val1': 100, 'val2': 'string1'}\n",
            "{'_id': 2, 'val1': 200, 'val2': 'string2'}\n"
          ]
        }
      ]
    }
  ]
}