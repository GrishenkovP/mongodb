{
  "nbformat": 4,
  "nbformat_minor": 0,
  "metadata": {
    "colab": {
      "name": "google_colab_mongodb_basics.ipynb",
      "provenance": [],
      "collapsed_sections": []
    },
    "kernelspec": {
      "name": "python3",
      "display_name": "Python 3"
    },
    "language_info": {
      "name": "python"
    }
  },
  "cells": [
    {
      "cell_type": "markdown",
      "source": [
        "# MongoDB. Основы работы"
      ],
      "metadata": {
        "id": "xNEeCad9ZuXV"
      }
    },
    {
      "cell_type": "code",
      "execution_count": 1,
      "metadata": {
        "id": "iwr9JUGuZqN5"
      },
      "outputs": [],
      "source": [
        "%%capture\n",
        "!apt install mongodb\n",
        "!service mongodb start"
      ]
    },
    {
      "cell_type": "code",
      "source": [
        "import datetime\n",
        "import pprint\n",
        "import pymongo\n",
        "from pymongo import MongoClient"
      ],
      "metadata": {
        "id": "_wnt5VFqaK_9"
      },
      "execution_count": 2,
      "outputs": []
    },
    {
      "cell_type": "code",
      "source": [
        "# Подключение\n",
        "client = MongoClient()"
      ],
      "metadata": {
        "id": "2fZxkbM6atLz"
      },
      "execution_count": 3,
      "outputs": []
    },
    {
      "cell_type": "code",
      "source": [
        "# БД\n",
        "db_test = client['db_test']"
      ],
      "metadata": {
        "id": "x6myxmxVavf9"
      },
      "execution_count": 4,
      "outputs": []
    },
    {
      "cell_type": "code",
      "source": [
        "# Коллекция\n",
        "collection_test = db_test['collection_test']"
      ],
      "metadata": {
        "id": "FU5Xgaoka-Cc"
      },
      "execution_count": 5,
      "outputs": []
    },
    {
      "cell_type": "code",
      "source": [
        "data1 = {'_id':1, 'val1':100, 'val2':'string1', 'val3':['a','b','c'], 'dt':datetime.datetime.utcnow()}\n",
        "data2 = {'_id':2, 'val1':200, 'val2':'string2', 'val3':['b','c','d'], 'dt':datetime.datetime.utcnow()}"
      ],
      "metadata": {
        "id": "H_xT13ZDbUBd"
      },
      "execution_count": 6,
      "outputs": []
    },
    {
      "cell_type": "code",
      "source": [
        "# Добавление значений в коллекцию\n",
        "ins_result = collection_test.insert_one(data1)\n",
        "print(ins_result.inserted_id)\n",
        "ins_result = collection_test.insert_one(data2)\n",
        "print(ins_result.inserted_id)"
      ],
      "metadata": {
        "id": "SMN8GxXSb2ck",
        "colab": {
          "base_uri": "https://localhost:8080/"
        },
        "outputId": "46bb3f14-c5f4-40a1-cb1a-44fc0275b3a6"
      },
      "execution_count": 7,
      "outputs": [
        {
          "output_type": "stream",
          "name": "stdout",
          "text": [
            "1\n",
            "2\n"
          ]
        }
      ]
    },
    {
      "cell_type": "code",
      "source": [
        "data_all = [{'_id':3, 'val1':300, 'val2':'string3', 'val3':['c','d','e'], 'dt':datetime.datetime.utcnow()},\n",
        "            {'_id':4, 'val1':400, 'val2':'string4', 'val3':['d','e','f'], 'dt':datetime.datetime.utcnow()},\n",
        "            {'_id':5, 'val1':500, 'val2':'string5', 'val3':['e','f','g'], 'dt':datetime.datetime.utcnow()}]"
      ],
      "metadata": {
        "id": "k8y4EAMEeqg-"
      },
      "execution_count": 8,
      "outputs": []
    },
    {
      "cell_type": "code",
      "source": [
        "# Добавление значений в коллекцию (группа)\n",
        "ins_result = collection_test.insert_many(data_all)"
      ],
      "metadata": {
        "id": "u_uGuLyffzG9"
      },
      "execution_count": 9,
      "outputs": []
    },
    {
      "cell_type": "code",
      "source": [
        "print(ins_result.inserted_ids)"
      ],
      "metadata": {
        "colab": {
          "base_uri": "https://localhost:8080/"
        },
        "id": "8nWzmrqshL1l",
        "outputId": "043091b6-795b-49a4-942d-e4057cbd5087"
      },
      "execution_count": 10,
      "outputs": [
        {
          "output_type": "stream",
          "name": "stdout",
          "text": [
            "[3, 4, 5]\n"
          ]
        }
      ]
    },
    {
      "cell_type": "code",
      "source": [
        "# Вывести все документы в коллекции\n",
        "for _ in collection_test.find():\n",
        "  pprint.pprint(_)"
      ],
      "metadata": {
        "id": "xTRSIaZZcaLz",
        "colab": {
          "base_uri": "https://localhost:8080/"
        },
        "outputId": "ab3b5265-054f-4d19-9184-81f8cd6a9327"
      },
      "execution_count": 11,
      "outputs": [
        {
          "output_type": "stream",
          "name": "stdout",
          "text": [
            "{'_id': 1,\n",
            " 'dt': datetime.datetime(2022, 4, 17, 13, 52, 59, 566000),\n",
            " 'val1': 100,\n",
            " 'val2': 'string1',\n",
            " 'val3': ['a', 'b', 'c']}\n",
            "{'_id': 2,\n",
            " 'dt': datetime.datetime(2022, 4, 17, 13, 52, 59, 566000),\n",
            " 'val1': 200,\n",
            " 'val2': 'string2',\n",
            " 'val3': ['b', 'c', 'd']}\n",
            "{'_id': 3,\n",
            " 'dt': datetime.datetime(2022, 4, 17, 13, 52, 59, 624000),\n",
            " 'val1': 300,\n",
            " 'val2': 'string3',\n",
            " 'val3': ['c', 'd', 'e']}\n",
            "{'_id': 4,\n",
            " 'dt': datetime.datetime(2022, 4, 17, 13, 52, 59, 624000),\n",
            " 'val1': 400,\n",
            " 'val2': 'string4',\n",
            " 'val3': ['d', 'e', 'f']}\n",
            "{'_id': 5,\n",
            " 'dt': datetime.datetime(2022, 4, 17, 13, 52, 59, 624000),\n",
            " 'val1': 500,\n",
            " 'val2': 'string5',\n",
            " 'val3': ['e', 'f', 'g']}\n"
          ]
        }
      ]
    },
    {
      "cell_type": "code",
      "source": [
        "# Вывести список всех коллекций\n",
        "print(db_test.list_collection_names())"
      ],
      "metadata": {
        "colab": {
          "base_uri": "https://localhost:8080/"
        },
        "id": "z51TgedvhTMN",
        "outputId": "ac24f2e8-0457-49ae-cf74-4151ee345b41"
      },
      "execution_count": 12,
      "outputs": [
        {
          "output_type": "stream",
          "name": "stdout",
          "text": [
            "['collection_test']\n"
          ]
        }
      ]
    },
    {
      "cell_type": "code",
      "source": [
        "# Получение первого документа из коллекции\n",
        "record_first = collection_test.find_one()\n",
        "pprint.pprint(record_first)"
      ],
      "metadata": {
        "colab": {
          "base_uri": "https://localhost:8080/"
        },
        "id": "z2rrm600hsgF",
        "outputId": "ae9d7964-171a-4870-cdb4-8e8b63c71ae5"
      },
      "execution_count": 13,
      "outputs": [
        {
          "output_type": "stream",
          "name": "stdout",
          "text": [
            "{'_id': 1,\n",
            " 'dt': datetime.datetime(2022, 4, 17, 13, 52, 59, 566000),\n",
            " 'val1': 100,\n",
            " 'val2': 'string1',\n",
            " 'val3': ['a', 'b', 'c']}\n"
          ]
        }
      ]
    },
    {
      "cell_type": "code",
      "source": [
        "# Вывести только первые три документа\n",
        "for _ in collection_test.find().limit(3):\n",
        "  pprint.pprint(_)"
      ],
      "metadata": {
        "colab": {
          "base_uri": "https://localhost:8080/"
        },
        "id": "RDMbRo7tjFDO",
        "outputId": "4d55fc64-5012-4e3d-8926-1e1a221da222"
      },
      "execution_count": 14,
      "outputs": [
        {
          "output_type": "stream",
          "name": "stdout",
          "text": [
            "{'_id': 1,\n",
            " 'dt': datetime.datetime(2022, 4, 17, 13, 52, 59, 566000),\n",
            " 'val1': 100,\n",
            " 'val2': 'string1',\n",
            " 'val3': ['a', 'b', 'c']}\n",
            "{'_id': 2,\n",
            " 'dt': datetime.datetime(2022, 4, 17, 13, 52, 59, 566000),\n",
            " 'val1': 200,\n",
            " 'val2': 'string2',\n",
            " 'val3': ['b', 'c', 'd']}\n",
            "{'_id': 3,\n",
            " 'dt': datetime.datetime(2022, 4, 17, 13, 52, 59, 624000),\n",
            " 'val1': 300,\n",
            " 'val2': 'string3',\n",
            " 'val3': ['c', 'd', 'e']}\n"
          ]
        }
      ]
    },
    {
      "cell_type": "code",
      "source": [
        "# Вывести документы с пропуском первых 3\n",
        "for _ in collection_test.find().skip(3):\n",
        "  pprint.pprint(_)"
      ],
      "metadata": {
        "colab": {
          "base_uri": "https://localhost:8080/"
        },
        "id": "KwfH4tf9ouon",
        "outputId": "457e0cd4-67df-4897-9091-2c6d04ea0c59"
      },
      "execution_count": 15,
      "outputs": [
        {
          "output_type": "stream",
          "name": "stdout",
          "text": [
            "{'_id': 4,\n",
            " 'dt': datetime.datetime(2022, 4, 17, 13, 52, 59, 624000),\n",
            " 'val1': 400,\n",
            " 'val2': 'string4',\n",
            " 'val3': ['d', 'e', 'f']}\n",
            "{'_id': 5,\n",
            " 'dt': datetime.datetime(2022, 4, 17, 13, 52, 59, 624000),\n",
            " 'val1': 500,\n",
            " 'val2': 'string5',\n",
            " 'val3': ['e', 'f', 'g']}\n"
          ]
        }
      ]
    },
    {
      "cell_type": "code",
      "source": [
        "# Вывести только определенные столбцы\n",
        "for _ in collection_test.find({},{'val3':1, '_id':0}):\n",
        "  pprint.pprint(_)"
      ],
      "metadata": {
        "colab": {
          "base_uri": "https://localhost:8080/"
        },
        "id": "fxc1EfQ3oDoO",
        "outputId": "3c6fe4ce-6fc3-4187-c995-d8cf1a050f0f"
      },
      "execution_count": 16,
      "outputs": [
        {
          "output_type": "stream",
          "name": "stdout",
          "text": [
            "{'val3': ['a', 'b', 'c']}\n",
            "{'val3': ['b', 'c', 'd']}\n",
            "{'val3': ['c', 'd', 'e']}\n",
            "{'val3': ['d', 'e', 'f']}\n",
            "{'val3': ['e', 'f', 'g']}\n"
          ]
        }
      ]
    },
    {
      "cell_type": "code",
      "source": [
        "# Вывести только уникальные значения для поля\n",
        "print(collection_test.distinct('val3'))"
      ],
      "metadata": {
        "colab": {
          "base_uri": "https://localhost:8080/"
        },
        "id": "MLHPKdS1naZx",
        "outputId": "ccc8e8a8-519e-4b67-d4fb-3bc5d763c8d5"
      },
      "execution_count": 17,
      "outputs": [
        {
          "output_type": "stream",
          "name": "stdout",
          "text": [
            "['a', 'b', 'c', 'd', 'e', 'f', 'g']\n"
          ]
        }
      ]
    },
    {
      "cell_type": "code",
      "source": [
        "# Подсчет количества записей в коллекции\n",
        "print(collection_test.count_documents({}))"
      ],
      "metadata": {
        "colab": {
          "base_uri": "https://localhost:8080/"
        },
        "id": "GfGBUOuUjO-V",
        "outputId": "331faa5a-9ba6-4b41-d4d6-13fa588ae41a"
      },
      "execution_count": 18,
      "outputs": [
        {
          "output_type": "stream",
          "name": "stdout",
          "text": [
            "5\n"
          ]
        }
      ]
    },
    {
      "cell_type": "code",
      "source": [
        "# Отсортировать записи\n",
        "for _ in collection_test.find().sort('val1',-1):\n",
        "  pprint.pprint(_)"
      ],
      "metadata": {
        "colab": {
          "base_uri": "https://localhost:8080/"
        },
        "id": "HzFL0BLYpKP_",
        "outputId": "376538b6-08ff-4c7b-cf44-828aba07a19d"
      },
      "execution_count": 19,
      "outputs": [
        {
          "output_type": "stream",
          "name": "stdout",
          "text": [
            "{'_id': 5,\n",
            " 'dt': datetime.datetime(2022, 4, 17, 13, 52, 59, 624000),\n",
            " 'val1': 500,\n",
            " 'val2': 'string5',\n",
            " 'val3': ['e', 'f', 'g']}\n",
            "{'_id': 4,\n",
            " 'dt': datetime.datetime(2022, 4, 17, 13, 52, 59, 624000),\n",
            " 'val1': 400,\n",
            " 'val2': 'string4',\n",
            " 'val3': ['d', 'e', 'f']}\n",
            "{'_id': 3,\n",
            " 'dt': datetime.datetime(2022, 4, 17, 13, 52, 59, 624000),\n",
            " 'val1': 300,\n",
            " 'val2': 'string3',\n",
            " 'val3': ['c', 'd', 'e']}\n",
            "{'_id': 2,\n",
            " 'dt': datetime.datetime(2022, 4, 17, 13, 52, 59, 566000),\n",
            " 'val1': 200,\n",
            " 'val2': 'string2',\n",
            " 'val3': ['b', 'c', 'd']}\n",
            "{'_id': 1,\n",
            " 'dt': datetime.datetime(2022, 4, 17, 13, 52, 59, 566000),\n",
            " 'val1': 100,\n",
            " 'val2': 'string1',\n",
            " 'val3': ['a', 'b', 'c']}\n"
          ]
        }
      ]
    },
    {
      "cell_type": "markdown",
      "source": [
        "**Условные операторы задают условие, которому должно соответствовать значение поля документа**:\n",
        "* \\$eq (равно)\n",
        "* \\$ne (не равно)\n",
        "* \\$gt (больше чем)\n",
        "* \\$lt (меньше чем)\n",
        "* \\$gte (больше или равно)\n",
        "* \\$lte (меньше или равно)\n",
        "* \\$in определяет массив значений, одно из которых должно иметь поле документа\n",
        "* \\$nin определяет массив значений, которые не должно иметь поле документа"
      ],
      "metadata": {
        "id": "HO-iVF_XmHu3"
      }
    },
    {
      "cell_type": "markdown",
      "source": [
        "**Логические операторы выполняются над условиями выборки:**\n",
        "* \\$or: соединяет два условия, и документ должен соответствовать одному из этих условий\n",
        "* \\$and: соединяет два условия, и документ должен соответствовать обоим условиям\n",
        "* \\$not: документ должен не соответствовать условию\n",
        "* \\$nor: соединяет два условия, и документ должен не соответствовать обоим условиям"
      ],
      "metadata": {
        "id": "eJHmUyCUm_g4"
      }
    },
    {
      "cell_type": "markdown",
      "source": [
        "**Ряд операторов предназначены для работы с массивами:**\n",
        "* \\$all: определяет набор значений, которые должны иметься в массиве\n",
        "* \\$size: определяет количество элементов, которые должны быть в массиве\n",
        "* \\$elemMatch: определяет условие, которым должны соответствовать элементы в массиве\n",
        "* \\$exists: позволяет извлечь только те документы, в которых определенный ключ присутствует или отсутствует\n",
        "* \\$type: извлекает только те документы, в которых определенный ключ имеет значение определенного типа, например строку или число\n",
        "* \\$regex: задает регулярное выражение, которому должно соответствовать значение поля"
      ],
      "metadata": {
        "id": "EBl-h09Jr4-g"
      }
    },
    {
      "cell_type": "code",
      "source": [
        "# Подсчет записей по условию\n",
        "count_filter = collection_test.count_documents({'val1': {'$eq' : 100}})\n",
        "print(count_filter)"
      ],
      "metadata": {
        "colab": {
          "base_uri": "https://localhost:8080/"
        },
        "id": "S3jZUJ__k3BP",
        "outputId": "ce69d259-d476-4f53-e39e-b787517d6488"
      },
      "execution_count": 20,
      "outputs": [
        {
          "output_type": "stream",
          "name": "stdout",
          "text": [
            "1\n"
          ]
        }
      ]
    },
    {
      "cell_type": "code",
      "source": [
        "# Выборка по условию\n",
        "for _ in collection_test.find({'$or' : [{'val1': 100}, {'val2':'string2'}]}):\n",
        "  pprint.pprint(_)"
      ],
      "metadata": {
        "colab": {
          "base_uri": "https://localhost:8080/"
        },
        "id": "S6PV10gDmyiH",
        "outputId": "c4a5c1c6-b4dd-4461-f4c3-62fa390554b3"
      },
      "execution_count": 21,
      "outputs": [
        {
          "output_type": "stream",
          "name": "stdout",
          "text": [
            "{'_id': 1,\n",
            " 'dt': datetime.datetime(2022, 4, 17, 13, 52, 59, 566000),\n",
            " 'val1': 100,\n",
            " 'val2': 'string1',\n",
            " 'val3': ['a', 'b', 'c']}\n",
            "{'_id': 2,\n",
            " 'dt': datetime.datetime(2022, 4, 17, 13, 52, 59, 566000),\n",
            " 'val1': 200,\n",
            " 'val2': 'string2',\n",
            " 'val3': ['b', 'c', 'd']}\n"
          ]
        }
      ]
    },
    {
      "cell_type": "code",
      "source": [
        "# Выборка по условию\n",
        "for _ in collection_test.find({'val1': {'$in': [100, 200, 300]}}):\n",
        "  pprint.pprint(_)"
      ],
      "metadata": {
        "colab": {
          "base_uri": "https://localhost:8080/"
        },
        "id": "U3chCcPXrXtw",
        "outputId": "5bb0d5cc-3185-4974-ade6-9b75cd3cd518"
      },
      "execution_count": 22,
      "outputs": [
        {
          "output_type": "stream",
          "name": "stdout",
          "text": [
            "{'_id': 1,\n",
            " 'dt': datetime.datetime(2022, 4, 17, 13, 52, 59, 566000),\n",
            " 'val1': 100,\n",
            " 'val2': 'string1',\n",
            " 'val3': ['a', 'b', 'c']}\n",
            "{'_id': 2,\n",
            " 'dt': datetime.datetime(2022, 4, 17, 13, 52, 59, 566000),\n",
            " 'val1': 200,\n",
            " 'val2': 'string2',\n",
            " 'val3': ['b', 'c', 'd']}\n",
            "{'_id': 3,\n",
            " 'dt': datetime.datetime(2022, 4, 17, 13, 52, 59, 624000),\n",
            " 'val1': 300,\n",
            " 'val2': 'string3',\n",
            " 'val3': ['c', 'd', 'e']}\n"
          ]
        }
      ]
    },
    {
      "cell_type": "code",
      "source": [
        "# Обновление значения в записи\n",
        "collection_test.update_one({'val1' : 100}, {'$set': {'val1' : 1000}})"
      ],
      "metadata": {
        "colab": {
          "base_uri": "https://localhost:8080/"
        },
        "id": "JtoMxh-mtfMR",
        "outputId": "418d9ae3-d91f-473f-f1a7-eb348a783ead"
      },
      "execution_count": 23,
      "outputs": [
        {
          "output_type": "execute_result",
          "data": {
            "text/plain": [
              "<pymongo.results.UpdateResult at 0x7f19e83b2490>"
            ]
          },
          "metadata": {},
          "execution_count": 23
        }
      ]
    },
    {
      "cell_type": "code",
      "source": [
        "for _ in collection_test.find({'val1': {'$eq' : 1000}}):\n",
        "  pprint.pprint(_)"
      ],
      "metadata": {
        "colab": {
          "base_uri": "https://localhost:8080/"
        },
        "id": "-SQ74RJau-KY",
        "outputId": "daf4e763-beed-4cab-9b09-f27d501b81fc"
      },
      "execution_count": 24,
      "outputs": [
        {
          "output_type": "stream",
          "name": "stdout",
          "text": [
            "{'_id': 1,\n",
            " 'dt': datetime.datetime(2022, 4, 17, 13, 52, 59, 566000),\n",
            " 'val1': 1000,\n",
            " 'val2': 'string1',\n",
            " 'val3': ['a', 'b', 'c']}\n"
          ]
        }
      ]
    },
    {
      "cell_type": "code",
      "source": [
        "# Увеличение значения поля\n",
        "collection_test.update_one({'val1' : 1000}, {'$inc': {'val1':500}})"
      ],
      "metadata": {
        "colab": {
          "base_uri": "https://localhost:8080/"
        },
        "id": "rcLbigOtvVUZ",
        "outputId": "443fbf69-1f7a-406f-c0ae-c1881509e993"
      },
      "execution_count": 25,
      "outputs": [
        {
          "output_type": "execute_result",
          "data": {
            "text/plain": [
              "<pymongo.results.UpdateResult at 0x7f19e83adc50>"
            ]
          },
          "metadata": {},
          "execution_count": 25
        }
      ]
    },
    {
      "cell_type": "code",
      "source": [
        "for _ in collection_test.find({'_id': {'$eq' : 1}}):\n",
        "  pprint.pprint(_)"
      ],
      "metadata": {
        "colab": {
          "base_uri": "https://localhost:8080/"
        },
        "id": "QUPc9yZDvrpu",
        "outputId": "9c0bc81e-bb2f-4c94-edf1-1c443ede3948"
      },
      "execution_count": 26,
      "outputs": [
        {
          "output_type": "stream",
          "name": "stdout",
          "text": [
            "{'_id': 1,\n",
            " 'dt': datetime.datetime(2022, 4, 17, 13, 52, 59, 566000),\n",
            " 'val1': 1500,\n",
            " 'val2': 'string1',\n",
            " 'val3': ['a', 'b', 'c']}\n"
          ]
        }
      ]
    },
    {
      "cell_type": "code",
      "source": [
        "# Обновление массивов\n",
        "collection_test.update_many({}, {'$push': {'val3': 'p'}})"
      ],
      "metadata": {
        "colab": {
          "base_uri": "https://localhost:8080/"
        },
        "id": "lfTqmUV7wIev",
        "outputId": "097a2fda-c449-4381-aaa0-2e91e559a4f3"
      },
      "execution_count": 27,
      "outputs": [
        {
          "output_type": "execute_result",
          "data": {
            "text/plain": [
              "<pymongo.results.UpdateResult at 0x7f19e8426a10>"
            ]
          },
          "metadata": {},
          "execution_count": 27
        }
      ]
    },
    {
      "cell_type": "code",
      "source": [
        "for _ in collection_test.find({'_id': {'$eq' : 1}}):\n",
        "  pprint.pprint(_)"
      ],
      "metadata": {
        "colab": {
          "base_uri": "https://localhost:8080/"
        },
        "id": "jgL0pZNuwmeg",
        "outputId": "e3f1becd-b21b-4205-91d5-3d938039dca5"
      },
      "execution_count": 28,
      "outputs": [
        {
          "output_type": "stream",
          "name": "stdout",
          "text": [
            "{'_id': 1,\n",
            " 'dt': datetime.datetime(2022, 4, 17, 13, 52, 59, 566000),\n",
            " 'val1': 1500,\n",
            " 'val2': 'string1',\n",
            " 'val3': ['a', 'b', 'c', 'p']}\n"
          ]
        }
      ]
    },
    {
      "cell_type": "code",
      "source": [
        "# Удаление элемента из массива\n",
        "collection_test.update_many({}, {'$pop': {'val3': 1}})"
      ],
      "metadata": {
        "colab": {
          "base_uri": "https://localhost:8080/"
        },
        "id": "wY0e6mzOxUqZ",
        "outputId": "f547a037-05bd-4c9d-b08f-e853d14e1bf8"
      },
      "execution_count": 29,
      "outputs": [
        {
          "output_type": "execute_result",
          "data": {
            "text/plain": [
              "<pymongo.results.UpdateResult at 0x7f19e840f190>"
            ]
          },
          "metadata": {},
          "execution_count": 29
        }
      ]
    },
    {
      "cell_type": "code",
      "source": [
        "for _ in collection_test.find({'_id': {'$eq' : 1}}):\n",
        "  pprint.pprint(_)"
      ],
      "metadata": {
        "colab": {
          "base_uri": "https://localhost:8080/"
        },
        "id": "mWOCoVZRxl4x",
        "outputId": "d1edea80-546e-41ca-e52b-97476f9af7c8"
      },
      "execution_count": 30,
      "outputs": [
        {
          "output_type": "stream",
          "name": "stdout",
          "text": [
            "{'_id': 1,\n",
            " 'dt': datetime.datetime(2022, 4, 17, 13, 52, 59, 566000),\n",
            " 'val1': 1500,\n",
            " 'val2': 'string1',\n",
            " 'val3': ['a', 'b', 'c']}\n"
          ]
        }
      ]
    },
    {
      "cell_type": "code",
      "source": [
        "# Удаление полей\n",
        "collection_test.update_many({}, {'$unset': {'dt': 1}})"
      ],
      "metadata": {
        "colab": {
          "base_uri": "https://localhost:8080/"
        },
        "id": "EJ4r3CD5ww3J",
        "outputId": "00206b7c-54aa-46ea-fac7-7a8ed488343e"
      },
      "execution_count": 31,
      "outputs": [
        {
          "output_type": "execute_result",
          "data": {
            "text/plain": [
              "<pymongo.results.UpdateResult at 0x7f19e840f350>"
            ]
          },
          "metadata": {},
          "execution_count": 31
        }
      ]
    },
    {
      "cell_type": "code",
      "source": [
        "for _ in collection_test.find({'_id': {'$eq' : 1}}):\n",
        "  pprint.pprint(_)"
      ],
      "metadata": {
        "colab": {
          "base_uri": "https://localhost:8080/"
        },
        "id": "1M-iIqhNxB9C",
        "outputId": "99cb2ae1-f66d-4c4c-bd35-f1be8671711a"
      },
      "execution_count": 32,
      "outputs": [
        {
          "output_type": "stream",
          "name": "stdout",
          "text": [
            "{'_id': 1, 'val1': 1500, 'val2': 'string1', 'val3': ['a', 'b', 'c']}\n"
          ]
        }
      ]
    },
    {
      "cell_type": "code",
      "source": [
        "# Удалить запись\n",
        "collection_test.delete_one({'_id' : 1})"
      ],
      "metadata": {
        "colab": {
          "base_uri": "https://localhost:8080/"
        },
        "id": "Q1jLR9tyxteR",
        "outputId": "6158545c-9f90-4608-c9a3-27eef443cd33"
      },
      "execution_count": 33,
      "outputs": [
        {
          "output_type": "execute_result",
          "data": {
            "text/plain": [
              "<pymongo.results.DeleteResult at 0x7f19ee9a4ad0>"
            ]
          },
          "metadata": {},
          "execution_count": 33
        }
      ]
    },
    {
      "cell_type": "code",
      "source": [
        "for _ in collection_test.find().limit(5):\n",
        "  pprint.pprint(_)"
      ],
      "metadata": {
        "colab": {
          "base_uri": "https://localhost:8080/"
        },
        "id": "kbN22syeyCbh",
        "outputId": "adb44981-5b99-4015-f83d-84a24f1659a3"
      },
      "execution_count": 34,
      "outputs": [
        {
          "output_type": "stream",
          "name": "stdout",
          "text": [
            "{'_id': 2, 'val1': 200, 'val2': 'string2', 'val3': ['b', 'c', 'd']}\n",
            "{'_id': 3, 'val1': 300, 'val2': 'string3', 'val3': ['c', 'd', 'e']}\n",
            "{'_id': 4, 'val1': 400, 'val2': 'string4', 'val3': ['d', 'e', 'f']}\n",
            "{'_id': 5, 'val1': 500, 'val2': 'string5', 'val3': ['e', 'f', 'g']}\n"
          ]
        }
      ]
    },
    {
      "cell_type": "code",
      "source": [
        "# Удалить коллекцию из БД\n",
        "collection_test.drop()"
      ],
      "metadata": {
        "id": "j39tuVdNynTr"
      },
      "execution_count": 35,
      "outputs": []
    },
    {
      "cell_type": "code",
      "source": [
        "for _ in collection_test.find().limit(5):\n",
        "  pprint.pprint(_)"
      ],
      "metadata": {
        "id": "Nv1CELnMyz0a"
      },
      "execution_count": 36,
      "outputs": []
    }
  ]
}
